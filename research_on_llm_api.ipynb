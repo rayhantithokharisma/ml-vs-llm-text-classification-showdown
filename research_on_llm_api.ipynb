{
  "nbformat": 4,
  "nbformat_minor": 0,
  "metadata": {
    "colab": {
      "provenance": []
    },
    "kernelspec": {
      "name": "python3",
      "display_name": "Python 3"
    },
    "language_info": {
      "name": "python"
    }
  },
  "cells": [
    {
      "cell_type": "code",
      "execution_count": null,
      "metadata": {
        "id": "ZYM8aM04qcV3"
      },
      "outputs": [],
      "source": [
        "from sklearn.datasets import fetch_20newsgroups\n",
        "from sklearn.feature_extraction.text import TfidfVectorizer\n",
        "from sklearn.model_selection import train_test_split\n",
        "from sklearn.ensemble import GradientBoostingClassifier, RandomForestClassifier\n",
        "from sklearn.tree import DecisionTreeClassifier\n",
        "from sklearn.naive_bayes import MultinomialNB\n",
        "from sklearn.metrics import accuracy_score, f1_score, precision_score, recall_score\n",
        "import pandas as pd"
      ]
    },
    {
      "cell_type": "code",
      "source": [
        "categories = ['rec.motorcycles', 'rec.sport.baseball','rec.sport.hockey', 'sci.electronics']\n",
        "dataset = fetch_20newsgroups(subset='all', categories=categories, remove=('headers', 'footers', 'quotes'))"
      ],
      "metadata": {
        "id": "cRDR9Xxgqfgo"
      },
      "execution_count": null,
      "outputs": []
    },
    {
      "cell_type": "code",
      "source": [
        "df = pd.DataFrame(dataset.data, columns=['text'])\n",
        "df['target'] = dataset.target\n",
        "df['target_name'] = df['target'].apply(lambda x: dataset.target_names[x])"
      ],
      "metadata": {
        "id": "A9p2rj63sNLX"
      },
      "execution_count": null,
      "outputs": []
    },
    {
      "cell_type": "code",
      "source": [
        "dictionary_map = {'rec.motorcycles':'motorcycles',\n",
        "                  'rec.sport.baseball':'baseball',\n",
        "                  'rec.sport.hockey':'hockey',\n",
        "                  'sci.electronics':'electronics'}\n",
        "\n",
        "df['target_name_v2'] = df['target_name'].map(dictionary_map)"
      ],
      "metadata": {
        "id": "CqEXc6WstQB5"
      },
      "execution_count": null,
      "outputs": []
    },
    {
      "cell_type": "code",
      "source": [
        "df['target_name_v2'].value_counts(dropna=False)"
      ],
      "metadata": {
        "colab": {
          "base_uri": "https://localhost:8080/",
          "height": 241
        },
        "id": "2OHHvUsTtmHZ",
        "outputId": "0e9b5d3b-2adf-43f3-e6e3-b33d77e37e19"
      },
      "execution_count": null,
      "outputs": [
        {
          "output_type": "execute_result",
          "data": {
            "text/plain": [
              "target_name_v2\n",
              "hockey         999\n",
              "motorcycles    996\n",
              "baseball       994\n",
              "electronics    984\n",
              "Name: count, dtype: int64"
            ],
            "text/html": [
              "<div>\n",
              "<style scoped>\n",
              "    .dataframe tbody tr th:only-of-type {\n",
              "        vertical-align: middle;\n",
              "    }\n",
              "\n",
              "    .dataframe tbody tr th {\n",
              "        vertical-align: top;\n",
              "    }\n",
              "\n",
              "    .dataframe thead th {\n",
              "        text-align: right;\n",
              "    }\n",
              "</style>\n",
              "<table border=\"1\" class=\"dataframe\">\n",
              "  <thead>\n",
              "    <tr style=\"text-align: right;\">\n",
              "      <th></th>\n",
              "      <th>count</th>\n",
              "    </tr>\n",
              "    <tr>\n",
              "      <th>target_name_v2</th>\n",
              "      <th></th>\n",
              "    </tr>\n",
              "  </thead>\n",
              "  <tbody>\n",
              "    <tr>\n",
              "      <th>hockey</th>\n",
              "      <td>999</td>\n",
              "    </tr>\n",
              "    <tr>\n",
              "      <th>motorcycles</th>\n",
              "      <td>996</td>\n",
              "    </tr>\n",
              "    <tr>\n",
              "      <th>baseball</th>\n",
              "      <td>994</td>\n",
              "    </tr>\n",
              "    <tr>\n",
              "      <th>electronics</th>\n",
              "      <td>984</td>\n",
              "    </tr>\n",
              "  </tbody>\n",
              "</table>\n",
              "</div><br><label><b>dtype:</b> int64</label>"
            ]
          },
          "metadata": {},
          "execution_count": 32
        }
      ]
    },
    {
      "cell_type": "code",
      "source": [
        "df = df.sample(frac=1).reset_index(drop=True)"
      ],
      "metadata": {
        "id": "DzbFtPJLsWi2"
      },
      "execution_count": null,
      "outputs": []
    },
    {
      "cell_type": "code",
      "source": [
        "df_train = df.iloc[:int(len(df)*0.8)].reset_index(drop=True)\n",
        "df_test = df.iloc[int(len(df)*0.8):].reset_index(drop=True)"
      ],
      "metadata": {
        "id": "AeZYv1aus-G_"
      },
      "execution_count": null,
      "outputs": []
    },
    {
      "cell_type": "code",
      "source": [
        "vectorizer = TfidfVectorizer(stop_words='english', max_df=0.5, min_df=2)\n",
        "X_train = vectorizer.fit_transform(df_train['text'])\n",
        "y_train = df_train['target']\n",
        "X_test = vectorizer.transform(df_test['text'])\n",
        "y_test = df_test['target']\n",
        "\n",
        "\n",
        "#X_train, X_test, y_train, y_test = train_test_split(X, y, test_size=0.2, random_state=42)\n",
        "\n",
        "models = {\n",
        "    'GradientBoosting': GradientBoostingClassifier(n_estimators=100, random_state=42),\n",
        "    'DecisionTree': DecisionTreeClassifier(random_state=42),\n",
        "    'RandomForest': RandomForestClassifier(n_estimators=100, random_state=42),\n",
        "    'NaiveBayes': MultinomialNB()\n",
        "}\n",
        "\n",
        "for name, model in models.items():\n",
        "    model.fit(X_train, y_train)\n",
        "    y_pred = model.predict(X_test)\n",
        "    accuracy = accuracy_score(y_test, y_pred)\n",
        "    precision = precision_score(y_test, y_pred, average='weighted')\n",
        "    recall = recall_score(y_test, y_pred, average='weighted')\n",
        "    f1 = f1_score(y_test, y_pred, average='weighted')\n",
        "    print(f'{name} Accuracy: {accuracy:.4f}')\n",
        "    print(f'{name} Precision: {precision:.4f}')\n",
        "    print(f'{name} Recall: {recall:.4f}')\n",
        "    print(f'{name} F1 Score: {f1:.4f}')\n",
        "    print('---')"
      ],
      "metadata": {
        "colab": {
          "base_uri": "https://localhost:8080/"
        },
        "id": "VCqaJYeHqmQH",
        "outputId": "0afeab5c-da29-43b7-d309-3d440741f81f"
      },
      "execution_count": null,
      "outputs": [
        {
          "output_type": "stream",
          "name": "stdout",
          "text": [
            "GradientBoosting Accuracy: 0.8088\n",
            "GradientBoosting Precision: 0.8422\n",
            "GradientBoosting Recall: 0.8088\n",
            "GradientBoosting F1 Score: 0.8152\n",
            "---\n",
            "DecisionTree Accuracy: 0.6918\n",
            "DecisionTree Precision: 0.7082\n",
            "DecisionTree Recall: 0.6918\n",
            "DecisionTree F1 Score: 0.6959\n",
            "---\n",
            "RandomForest Accuracy: 0.8440\n",
            "RandomForest Precision: 0.8546\n",
            "RandomForest Recall: 0.8440\n",
            "RandomForest F1 Score: 0.8460\n",
            "---\n",
            "NaiveBayes Accuracy: 0.9006\n",
            "NaiveBayes Precision: 0.9044\n",
            "NaiveBayes Recall: 0.9006\n",
            "NaiveBayes F1 Score: 0.9014\n",
            "---\n"
          ]
        }
      ]
    },
    {
      "cell_type": "code",
      "source": [
        "!pip install langchain openai pypdf tiktoken faiss-cpu"
      ],
      "metadata": {
        "id": "R_fdPo7_r9u3"
      },
      "execution_count": null,
      "outputs": []
    },
    {
      "cell_type": "code",
      "source": [
        "!pip install -U langchain-community"
      ],
      "metadata": {
        "id": "G4TVAo9su_tH"
      },
      "execution_count": null,
      "outputs": []
    },
    {
      "cell_type": "code",
      "source": [
        "OPEN_AI_KEY = \"\""
      ],
      "metadata": {
        "id": "WG7NAp8xuhPY"
      },
      "execution_count": null,
      "outputs": []
    },
    {
      "cell_type": "code",
      "source": [
        "from langchain.chat_models import ChatOpenAI\n",
        "from langchain.schema import SystemMessage, HumanMessage\n",
        "import pandas as pd\n",
        "\n",
        "llm = ChatOpenAI(openai_api_key=OPEN_AI_KEY,model=\"gpt-4-turbo\", temperature=0)\n",
        "\n",
        "categories = [\"motorcycles\", \"electronics\", \"hockey\", \"baseball\"]\n",
        "\n",
        "def predict_category(text):\n",
        "    messages = [\n",
        "        SystemMessage(content=f\"Classify the text into one of these categories: {', '.join(categories)}. Respond with only one word, the category name.\"),\n",
        "        HumanMessage(content=text),\n",
        "    ]\n",
        "    return llm.predict_messages(messages).content.strip()\n"
      ],
      "metadata": {
        "colab": {
          "base_uri": "https://localhost:8080/"
        },
        "id": "Qd2neIA9ukLn",
        "outputId": "1f7619c2-7323-4174-d682-172a1eccf8d1"
      },
      "execution_count": null,
      "outputs": [
        {
          "output_type": "stream",
          "name": "stderr",
          "text": [
            "<ipython-input-41-fc9c67496273>:5: LangChainDeprecationWarning: The class `ChatOpenAI` was deprecated in LangChain 0.0.10 and will be removed in 1.0. An updated version of the class exists in the :class:`~langchain-openai package and should be used instead. To use it run `pip install -U :class:`~langchain-openai` and import as `from :class:`~langchain_openai import ChatOpenAI``.\n",
            "  llm = ChatOpenAI(openai_api_key=OPEN_AI_KEY,model=\"gpt-4-turbo\", temperature=0)\n"
          ]
        }
      ]
    },
    {
      "cell_type": "code",
      "source": [
        "sample_df = df.sample(n=10, random_state=42)\n",
        "sample_df[\"predicted_category\"] = sample_df[\"text\"].apply(predict_category)"
      ],
      "metadata": {
        "colab": {
          "base_uri": "https://localhost:8080/"
        },
        "id": "s08NXaciu2V3",
        "outputId": "e2ef743f-1bb3-45b2-9639-c8214970caed"
      },
      "execution_count": null,
      "outputs": [
        {
          "output_type": "stream",
          "name": "stderr",
          "text": [
            "<ipython-input-41-fc9c67496273>:14: LangChainDeprecationWarning: The method `BaseChatModel.predict_messages` was deprecated in langchain-core 0.1.7 and will be removed in 1.0. Use :meth:`~invoke` instead.\n",
            "  return llm.predict_messages(messages).content.strip()\n"
          ]
        }
      ]
    },
    {
      "cell_type": "code",
      "source": [
        "from tqdm import tqdm\n",
        "\n",
        "for idx, row in tqdm(df_test.iterrows(), total=len(df_test)):\n",
        "    df_test.at[idx, \"predicted_category\"] = predict_category(row[\"text\"])"
      ],
      "metadata": {
        "colab": {
          "base_uri": "https://localhost:8080/"
        },
        "id": "0QpzplPMvT9o",
        "outputId": "26f8eb89-ffe5-4626-8470-bdd397aa4f03"
      },
      "execution_count": null,
      "outputs": [
        {
          "output_type": "stream",
          "name": "stderr",
          "text": [
            "100%|██████████| 795/795 [10:14<00:00,  1.29it/s]\n"
          ]
        }
      ]
    },
    {
      "cell_type": "code",
      "source": [
        "print(precision_score(df_test[\"target_name_v2\"], df_test[\"predicted_category\"], average='weighted'))\n",
        "print(recall_score(df_test[\"target_name_v2\"], df_test[\"predicted_category\"], average='weighted'))\n",
        "print(f1_score(df_test[\"target_name_v2\"], df_test[\"predicted_category\"], average='weighted'))"
      ],
      "metadata": {
        "colab": {
          "base_uri": "https://localhost:8080/"
        },
        "id": "A0elhuOZvXIH",
        "outputId": "09b53e85-d737-413b-b497-7089cbdd2229"
      },
      "execution_count": null,
      "outputs": [
        {
          "output_type": "stream",
          "name": "stdout",
          "text": [
            "0.9240683210501406\n",
            "0.9169811320754717\n",
            "0.9167026190391604\n"
          ]
        }
      ]
    }
  ]
}